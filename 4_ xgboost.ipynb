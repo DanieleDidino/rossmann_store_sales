{
 "cells": [
  {
   "cell_type": "markdown",
   "metadata": {},
   "source": [
    "# Gradient Boosting (XGBoost)\n",
    "\n",
    "**Rossmann Store Sales**\n",
    "Forecast sales using store, promotion, and competitor data\n",
    "\n",
    "This is a Kaggle competition and can be found [here](https://www.kaggle.com/competitions/rossmann-store-sales/overview)\n",
    "\n",
    "In this notebook I use `Gradient Boosting` implemented in `XGBoost` to predict `Sales`.\n",
    "\n",
    "The validation RMSE is `????`\n",
    "On the full train set, Root Mean Square Percentage Error is `????`"
   ]
  },
  {
   "cell_type": "code",
   "execution_count": 1,
   "metadata": {},
   "outputs": [],
   "source": [
    "from pathlib import Path\n",
    "import numpy as np\n",
    "import pandas as pd\n",
    "import matplotlib.pyplot as plt\n",
    "import seaborn as sns\n",
    "from sklearn.pipeline import Pipeline\n",
    "# from sklearn.ensemble import RandomForestRegressor\n",
    "# from sklearn.metrics import mean_squared_error\n",
    "# from sklearn.model_selection import RandomizedSearchCV, GridSearchCV\n",
    "# from scipy.stats import randint as sp_randint \n",
    "\n",
    "# my functions\n",
    "from utils import RMSPE, print_best_model_metrics\n",
    "from pipeline import full_pipeline"
   ]
  },
  {
   "cell_type": "markdown",
   "metadata": {},
   "source": [
    "# Load data"
   ]
  },
  {
   "cell_type": "code",
   "execution_count": 2,
   "metadata": {},
   "outputs": [
    {
     "name": "stdout",
     "output_type": "stream",
     "text": [
      "Shape X_y_train: (675470, 18)\n",
      "Shape X_train:   (675470, 18)\n",
      "Shape y_train:   (675470,)\n"
     ]
    }
   ],
   "source": [
    "# Load the dataset\n",
    "def load_ds(path: Path, filename: str) -> pd.DataFrame:\n",
    "    \"\"\"Read the dataset csv file as a pandas dataframe.\"\"\"\n",
    "    return pd.read_csv(path / filename)\n",
    "\n",
    "# Load dataset\n",
    "dataset_path = Path().absolute() / \"data\"\n",
    "filename = \"X_y_train.csv\"\n",
    "X_y_train = load_ds(dataset_path, filename)\n",
    "\n",
    "X_train = X_y_train # include \"Sales\", CombinedAttributesAdder() drops it\n",
    "y_train = X_y_train.loc[:, \"Sales\"].copy()\n",
    "\n",
    "print(f\"Shape X_y_train: {X_y_train.shape}\")\n",
    "print(f\"Shape X_train:   {X_train.shape}\")\n",
    "print(f\"Shape y_train:   {y_train.shape}\")"
   ]
  },
  {
   "cell_type": "markdown",
   "metadata": {},
   "source": [
    "# Gradient Boosting"
   ]
  },
  {
   "cell_type": "code",
   "execution_count": null,
   "metadata": {},
   "outputs": [],
   "source": []
  }
 ],
 "metadata": {
  "kernelspec": {
   "display_name": "venv_rossmann_store",
   "language": "python",
   "name": "python3"
  },
  "language_info": {
   "codemirror_mode": {
    "name": "ipython",
    "version": 3
   },
   "file_extension": ".py",
   "mimetype": "text/x-python",
   "name": "python",
   "nbconvert_exporter": "python",
   "pygments_lexer": "ipython3",
   "version": "3.10.12"
  },
  "orig_nbformat": 4
 },
 "nbformat": 4,
 "nbformat_minor": 2
}
